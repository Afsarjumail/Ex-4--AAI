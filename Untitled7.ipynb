{
  "nbformat": 4,
  "nbformat_minor": 0,
  "metadata": {
    "colab": {
      "provenance": []
    },
    "kernelspec": {
      "name": "python3",
      "display_name": "Python 3"
    },
    "language_info": {
      "name": "python"
    }
  },
  "cells": [
    {
      "cell_type": "code",
      "execution_count": 1,
      "metadata": {
        "id": "4H3cFS86t6Zy"
      },
      "outputs": [],
      "source": [
        "import numpy as np"
      ]
    },
    {
      "cell_type": "code",
      "source": [
        "transition_matrix=np.array([[0.7,0.3],[0.4,0.6]])\n",
        "initial_probabilities=np.array([0.5,0.5])\n",
        "observed_sequence=np.array([1,1,1,0,0,1])\n",
        "emisson_matrix=np.array([[0.1,0.9],[0.8,0.2]])\n"
      ],
      "metadata": {
        "id": "Wu8iWng8uAdR"
      },
      "execution_count": 2,
      "outputs": []
    },
    {
      "cell_type": "code",
      "source": [
        "alpha=np.zeros((len(observed_sequence),len(initial_probabilities)))\n"
      ],
      "metadata": {
        "id": "OTT5oEmbuCEq"
      },
      "execution_count": 3,
      "outputs": []
    },
    {
      "cell_type": "code",
      "source": [
        "alpha[0,:]=initial_probabilities*emisson_matrix[:,observed_sequence[0]]"
      ],
      "metadata": {
        "id": "K7cGB_eUuECd"
      },
      "execution_count": 4,
      "outputs": []
    },
    {
      "cell_type": "code",
      "source": [
        "for t in range(1,len(observed_sequence)):\n",
        "  for j in range(len(initial_probabilities)):\n",
        "    alpha[t,j]=emisson_matrix[j,observed_sequence[t]]*np.sum(alpha[t-1,:]*transition_matrix[:,j])\n"
      ],
      "metadata": {
        "id": "5Lm2cCdfuHPG"
      },
      "execution_count": 5,
      "outputs": []
    },
    {
      "cell_type": "code",
      "source": [
        "probability=np.sum(alpha[-1,:])\n"
      ],
      "metadata": {
        "id": "M3kSQ3ueuJhr"
      },
      "execution_count": 6,
      "outputs": []
    },
    {
      "cell_type": "code",
      "source": [
        "print(\"The probability of the observed sequence is:\",probability)"
      ],
      "metadata": {
        "colab": {
          "base_uri": "https://localhost:8080/"
        },
        "id": "pJ0wp22AuMLq",
        "outputId": "03c4e062-52d9-4bfa-f90f-396f50124f2c"
      },
      "execution_count": 7,
      "outputs": [
        {
          "output_type": "stream",
          "name": "stdout",
          "text": [
            "The probability of the observed sequence is: 0.018906881625\n"
          ]
        }
      ]
    },
    {
      "cell_type": "code",
      "source": [
        "most_likely_sequence=[]\n",
        "for t in range(len(observed_sequence)):\n",
        "  if(alpha[t,0] > alpha[t,1]):\n",
        "    most_likely_sequence.append(\"sunny\")\n",
        "  else:\n",
        "    most_likely_sequence.append('rainy')\n"
      ],
      "metadata": {
        "id": "Id2QPynMuQbH"
      },
      "execution_count": 8,
      "outputs": []
    },
    {
      "cell_type": "code",
      "source": [
        "print(\"The most likely sequence of weather states is:\",most_likely_sequence)"
      ],
      "metadata": {
        "colab": {
          "base_uri": "https://localhost:8080/"
        },
        "id": "0XWDrTqtuS5U",
        "outputId": "2bdb0b23-6e24-4487-b079-2a46fae95f9f"
      },
      "execution_count": 9,
      "outputs": [
        {
          "output_type": "stream",
          "name": "stdout",
          "text": [
            "The most likely sequence of weather states is: ['sunny', 'sunny', 'sunny', 'rainy', 'rainy', 'sunny']\n"
          ]
        }
      ]
    },
    {
      "cell_type": "code",
      "source": [],
      "metadata": {
        "id": "9-cI6YWbuUrW"
      },
      "execution_count": null,
      "outputs": []
    }
  ]
}